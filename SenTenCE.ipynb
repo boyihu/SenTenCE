{
 "cells": [
  {
   "cell_type": "code",
   "execution_count": null,
   "metadata": {
    "collapsed": true
   },
   "outputs": [],
   "source": [
    "import os\n",
    "import pandas as pd\n",
    "import numpy as np\n",
    "import matplotlib.pyplot as plt"
   ]
  },
  {
   "cell_type": "code",
   "execution_count": 149,
   "metadata": {
    "collapsed": false
   },
   "outputs": [
    {
     "data": {
      "text/plain": [
       "(630000, 17)"
      ]
     },
     "execution_count": 149,
     "metadata": {},
     "output_type": "execute_result"
    }
   ],
   "source": [
    "df_data=pd.read_csv('data_twente_wrist.csv')\n",
    "df_data.shape\n",
    "#The 17 columns are: 1: Ts + 3 x 4 (sensors)+ 2x (u_id,act_id) (Numerical and categorical)"
   ]
  },
  {
   "cell_type": "markdown",
   "metadata": {},
   "source": [
    "# Benchmark with just the raw images"
   ]
  },
  {
   "cell_type": "markdown",
   "metadata": {},
   "source": [
    "## Why 630k you ask?\n",
    "\n",
    "Its 10 users x 7 activities x 180 seconds x 50 Hz"
   ]
  },
  {
   "cell_type": "code",
   "execution_count": 150,
   "metadata": {
    "collapsed": false
   },
   "outputs": [
    {
     "data": {
      "text/plain": [
       "(12600L, 1L, 50L, 12L)"
      ]
     },
     "execution_count": 150,
     "metadata": {},
     "output_type": "execute_result"
    }
   ],
   "source": [
    "col_sensors=[u'ax', u'ay', u'az', u'lx', u'ly', u'lz', u'gx', u'gy',  u'gz', u'mx', u'my', u'mz']\n",
    "X_train_test=df_data.ix[:,col_sensors].as_matrix().reshape(12600, 1, 50,12)\n",
    "X_train_test.shape"
   ]
  },
  {
   "cell_type": "markdown",
   "metadata": {
    "collapsed": false
   },
   "source": [
    "At the seconds level: 630*1e3/50 = 12600.0 'samples'"
   ]
  },
  {
   "cell_type": "code",
   "execution_count": 151,
   "metadata": {
    "collapsed": false
   },
   "outputs": [
    {
     "data": {
      "text/plain": [
       "(12600L, 1L, 50L, 1L)"
      ]
     },
     "execution_count": 151,
     "metadata": {},
     "output_type": "execute_result"
    }
   ],
   "source": [
    "y_train_test=df_data.ix[:,'act_codes'].as_matrix().reshape(12600, 1, 50,1)\n",
    "y_train_test.shape"
   ]
  },
  {
   "cell_type": "code",
   "execution_count": 152,
   "metadata": {
    "collapsed": false
   },
   "outputs": [
    {
     "name": "stdout",
     "output_type": "stream",
     "text": [
      "(10080L, 1L, 50L, 12L)\n",
      "(2520L, 1L, 50L, 12L)\n",
      "[1440 1440 1440 1440 1440 1440 1440]\n",
      "[360 360 360 360 360 360 360]\n"
     ]
    },
    {
     "name": "stderr",
     "output_type": "stream",
     "text": [
      "C:\\toolkits\\anaconda2-4.1.0\\lib\\site-packages\\ipykernel\\__main__.py:2: VisibleDeprecationWarning: using a non-integer number instead of an integer will result in an error in the future\n",
      "  from ipykernel import kernelapp as app\n",
      "C:\\toolkits\\anaconda2-4.1.0\\lib\\site-packages\\ipykernel\\__main__.py:3: VisibleDeprecationWarning: using a non-integer number instead of an integer will result in an error in the future\n",
      "  app.launch_new_instance()\n",
      "C:\\toolkits\\anaconda2-4.1.0\\lib\\site-packages\\ipykernel\\__main__.py:7: VisibleDeprecationWarning: using a non-integer number instead of an integer will result in an error in the future\n",
      "C:\\toolkits\\anaconda2-4.1.0\\lib\\site-packages\\ipykernel\\__main__.py:10: VisibleDeprecationWarning: using a non-integer number instead of an integer will result in an error in the future\n"
     ]
    }
   ],
   "source": [
    "N_train=12600.0*0.8 # 70% train and 30% test\n",
    "X_train=X_train_test[0:N_train,:,:,:]\n",
    "X_test=X_train_test[N_train:,:,:,:]\n",
    "print(X_train.shape)\n",
    "print(X_test.shape)\n",
    "\n",
    "y_train=y_train_test[0:N_train,0,0,0]\n",
    "print(np.bincount(y_train))\n",
    "\n",
    "y_test=y_train_test[N_train:,0,0,0]\n",
    "print(np.bincount(y_test))\n",
    "\n",
    "nb_classes=7\n",
    "\n",
    "from keras.utils import np_utils\n",
    "# convert class vectors to binary class matrices\n",
    "Y_train = np_utils.to_categorical(y_train, nb_classes)\n",
    "Y_test = np_utils.to_categorical(y_test, nb_classes)"
   ]
  },
  {
   "cell_type": "code",
   "execution_count": 153,
   "metadata": {
    "collapsed": false
   },
   "outputs": [
    {
     "name": "stdout",
     "output_type": "stream",
     "text": [
      "(10080L, 7L)\n",
      "(2520L, 7L)\n"
     ]
    }
   ],
   "source": [
    "print(Y_train.shape)\n",
    "print(Y_test.shape)"
   ]
  },
  {
   "cell_type": "code",
   "execution_count": 154,
   "metadata": {
    "collapsed": false
   },
   "outputs": [],
   "source": [
    "X_train/=X_train.max()\n",
    "X_test/=X_test.max()\n"
   ]
  },
  {
   "cell_type": "code",
   "execution_count": 155,
   "metadata": {
    "collapsed": false
   },
   "outputs": [],
   "source": [
    "from __future__ import print_function\n",
    "import numpy as np\n",
    "np.random.seed(1337)  # for reproducibility\n",
    "from keras.models import Sequential\n",
    "from keras.layers import Dense, Dropout, Activation, Flatten\n",
    "from keras.layers import Convolution2D, MaxPooling2D , AveragePooling2D\n",
    "from keras.utils import np_utils"
   ]
  },
  {
   "cell_type": "markdown",
   "metadata": {},
   "source": [
    "# Training code\n",
    "```python\n",
    "\n",
    "model = mnist_cnn_keras()\n",
    "model.compile(loss='categorical_crossentropy',\n",
    "              optimizer='adam',\n",
    "              metrics=['accuracy'])\n",
    "\n",
    "model.fit(X_train, Y_train, batch_size=128,validation_split=0.125, nb_epoch=20,verbose=0)\n",
    "model.save(\"mnist_cnn_keras.h5\")\n",
    "score = model.evaluate(X_test, Y_test, verbose=0)\n",
    "print('Test score:', score[0])\n",
    "print('Test accuracy:', score[1])\n",
    "```"
   ]
  },
  {
   "cell_type": "markdown",
   "metadata": {},
   "source": [
    "# Reproducability: Load the pre-trained model"
   ]
  },
  {
   "cell_type": "code",
   "execution_count": 158,
   "metadata": {
    "collapsed": false
   },
   "outputs": [
    {
     "name": "stdout",
     "output_type": "stream",
     "text": [
      "Test score: 0.195054876165\n",
      "Test accuracy: 0.942857142668\n"
     ]
    }
   ],
   "source": [
    "# Refrom keras.models import load_model\n",
    "model = load_model('mnist_cnn_keras.h5')\n",
    "score = model.evaluate(X_test, Y_test, verbose=0)\n",
    "print('Test score:', score[0])\n",
    "print('Test accuracy:', score[1])"
   ]
  },
  {
   "cell_type": "code",
   "execution_count": 159,
   "metadata": {
    "collapsed": false
   },
   "outputs": [
    {
     "name": "stdout",
     "output_type": "stream",
     "text": [
      "2496/2520 [============================>.] - ETA: 0s"
     ]
    },
    {
     "data": {
      "text/plain": [
       "0.94285714285714284"
      ]
     },
     "execution_count": 159,
     "metadata": {},
     "output_type": "execute_result"
    }
   ],
   "source": [
    "y_pred=model.predict_classes(X_test)\n",
    "(y_pred==y_test).sum()/float(len(y_test))\n"
   ]
  },
  {
   "cell_type": "markdown",
   "metadata": {},
   "source": [
    "## Visualization of the confusion matrix"
   ]
  },
  {
   "cell_type": "code",
   "execution_count": 160,
   "metadata": {
    "collapsed": false
   },
   "outputs": [
    {
     "data": {
      "text/plain": [
       "<matplotlib.axes._subplots.AxesSubplot at 0xeff27470>"
      ]
     },
     "execution_count": 160,
     "metadata": {},
     "output_type": "execute_result"
    },
    {
     "data": {
      "image/png": "[encoded data removed]",
      "text/plain": [
       "<matplotlib.figure.Figure at 0xf3574a58>"
      ]
     },
     "metadata": {},
     "output_type": "display_data"
    }
   ],
   "source": [
    "import seaborn as sns\n",
    "df_results=pd.DataFrame(data=np.column_stack((y_test,y_pred)),columns=['True','Predicted'])\n",
    "CT_results=pd.crosstab(df_results.True,df_results.Predicted)\n",
    "CM_results=CT_results/360.0\n",
    "sns.heatmap(CM_results, annot=True, fmt=\".2f\", linewidths=.5)"
   ]
  },
  {
   "cell_type": "code",
   "execution_count": 161,
   "metadata": {
    "collapsed": false
   },
   "outputs": [
    {
     "name": "stdout",
     "output_type": "stream",
     "text": [
      "____________________________________________________________________________________________________\n",
      "Layer (type)                     Output Shape          Param #     Connected to                     \n",
      "====================================================================================================\n",
      "convolution2d_163 (Convolution2D)(None, 32, 48, 10)    320         convolution2d_input_89[0][0]     \n",
      "____________________________________________________________________________________________________\n",
      "activation_238 (Activation)      (None, 32, 48, 10)    0           convolution2d_163[0][0]          \n",
      "____________________________________________________________________________________________________\n",
      "convolution2d_164 (Convolution2D)(None, 32, 46, 8)     9248        activation_238[0][0]             \n",
      "____________________________________________________________________________________________________\n",
      "activation_239 (Activation)      (None, 32, 46, 8)     0           convolution2d_164[0][0]          \n",
      "____________________________________________________________________________________________________\n",
      "maxpooling2d_135 (MaxPooling2D)  (None, 32, 23, 4)     0           activation_239[0][0]             \n",
      "____________________________________________________________________________________________________\n",
      "dropout_50 (Dropout)             (None, 32, 23, 4)     0           maxpooling2d_135[0][0]           \n",
      "____________________________________________________________________________________________________\n",
      "flatten_82 (Flatten)             (None, 2944)          0           dropout_50[0][0]                 \n",
      "____________________________________________________________________________________________________\n",
      "dense_157 (Dense)                (None, 128)           376960      flatten_82[0][0]                 \n",
      "____________________________________________________________________________________________________\n",
      "activation_240 (Activation)      (None, 128)           0           dense_157[0][0]                  \n",
      "____________________________________________________________________________________________________\n",
      "dropout_51 (Dropout)             (None, 128)           0           activation_240[0][0]             \n",
      "____________________________________________________________________________________________________\n",
      "dense_158 (Dense)                (None, 7)             903         dropout_51[0][0]                 \n",
      "====================================================================================================\n",
      "Total params: 387431\n",
      "____________________________________________________________________________________________________\n"
     ]
    }
   ],
   "source": [
    "model.summary()"
   ]
  },
  {
   "cell_type": "code",
   "execution_count": 387,
   "metadata": {
    "collapsed": true
   },
   "outputs": [],
   "source": [
    "def mnist_cnn_keras(weights_path=None, img_rows=50, img_cols=12):\n",
    "    batch_size = 128\n",
    "    nb_classes = 7\n",
    "    nb_epoch = 32\n",
    "    # input image dimensions\n",
    "    # img_rows, img_cols = 50, 12\n",
    "    # number of convolutional filters to use\n",
    "    nb_filters = 32\n",
    "    # size of pooling area for max pooling\n",
    "    nb_pool = 2\n",
    "    # convolution kernel size\n",
    "    kernel_size = (3, 3)\n",
    "    ###############################################################\n",
    "    ###############################################################\n",
    "    model = Sequential()\n",
    "    model.add(Convolution2D(nb_filters, kernel_size[0], kernel_size[1],\n",
    "                            border_mode='valid',\n",
    "                            input_shape=(1, img_rows, img_cols)))\n",
    "    model.add(Activation('relu'))\n",
    "    model.add(Convolution2D(nb_filters, kernel_size[0], kernel_size[1]))\n",
    "    model.add(Activation('relu'))\n",
    "    model.add(MaxPooling2D(pool_size=(nb_pool, nb_pool)))\n",
    "    model.add(Dropout(0.25))\n",
    "    model.add(Flatten())\n",
    "    model.add(Dense(128))\n",
    "    model.add(Activation('relu'))\n",
    "    model.add(Dropout(0.5))\n",
    "    model.add(Dense(nb_classes, activation='softmax'))\n",
    "    return model\n"
   ]
  },
  {
   "cell_type": "code",
   "execution_count": 395,
   "metadata": {
    "collapsed": false,
    "scrolled": true
   },
   "outputs": [
    {
     "data": {
      "image/svg+xml": [
       "<svg height=\"848pt\" viewBox=\"0.00 0.00 241.00 848.00\" width=\"241pt\" xmlns=\"http://www.w3.org/2000/svg\" xmlns:xlink=\"http://www.w3.org/1999/xlink\">\n",
       "<g class=\"graph\" id=\"graph0\" transform=\"scale(1 1) rotate(0) translate(4 844)\">\n",
       "<title>G</title>\n",
       "<polygon fill=\"white\" points=\"-4,4 -4,-844 237,-844 237,4 -4,4\" stroke=\"none\"/>\n",
       "<!-- 4673138192 -->\n",
       "<g class=\"node\" id=\"node1\"><title>4673138192</title>\n",
       "<polygon fill=\"none\" points=\"0,-803.5 0,-839.5 233,-839.5 233,-803.5 0,-803.5\" stroke=\"black\"/>\n",
       "<text font-family=\"Times New Roman,serif\" font-size=\"14.00\" text-anchor=\"middle\" x=\"116.5\" y=\"-817.8\">convolution2d_input_132 (InputLayer)</text>\n",
       "</g>\n",
       "<!-- 4673136792 -->\n",
       "<g class=\"node\" id=\"node2\"><title>4673136792</title>\n",
       "<polygon fill=\"none\" points=\"5,-730.5 5,-766.5 228,-766.5 228,-730.5 5,-730.5\" stroke=\"black\"/>\n",
       "<text font-family=\"Times New Roman,serif\" font-size=\"14.00\" text-anchor=\"middle\" x=\"116.5\" y=\"-744.8\">convolution2d_163 (Convolution2D)</text>\n",
       "</g>\n",
       "<!-- 4673138192&#45;&gt;4673136792 -->\n",
       "<g class=\"edge\" id=\"edge1\"><title>4673138192-&gt;4673136792</title>\n",
       "<path d=\"M116.5,-803.313C116.5,-795.289 116.5,-785.547 116.5,-776.569\" fill=\"none\" stroke=\"black\"/>\n",
       "<polygon fill=\"black\" points=\"120,-776.529 116.5,-766.529 113,-776.529 120,-776.529\" stroke=\"black\"/>\n",
       "</g>\n",
       "<!-- 5576579616 -->\n",
       "<g class=\"node\" id=\"node3\"><title>5576579616</title>\n",
       "<polygon fill=\"none\" points=\"33,-657.5 33,-693.5 200,-693.5 200,-657.5 33,-657.5\" stroke=\"black\"/>\n",
       "<text font-family=\"Times New Roman,serif\" font-size=\"14.00\" text-anchor=\"middle\" x=\"116.5\" y=\"-671.8\">activation_238 (Activation)</text>\n",
       "</g>\n",
       "<!-- 4673136792&#45;&gt;5576579616 -->\n",
       "<g class=\"edge\" id=\"edge2\"><title>4673136792-&gt;5576579616</title>\n",
       "<path d=\"M116.5,-730.313C116.5,-722.289 116.5,-712.547 116.5,-703.569\" fill=\"none\" stroke=\"black\"/>\n",
       "<polygon fill=\"black\" points=\"120,-703.529 116.5,-693.529 113,-703.529 120,-703.529\" stroke=\"black\"/>\n",
       "</g>\n",
       "<!-- 279212384 -->\n",
       "<g class=\"node\" id=\"node4\"><title>279212384</title>\n",
       "<polygon fill=\"none\" points=\"5,-584.5 5,-620.5 228,-620.5 228,-584.5 5,-584.5\" stroke=\"black\"/>\n",
       "<text font-family=\"Times New Roman,serif\" font-size=\"14.00\" text-anchor=\"middle\" x=\"116.5\" y=\"-598.8\">convolution2d_164 (Convolution2D)</text>\n",
       "</g>\n",
       "<!-- 5576579616&#45;&gt;279212384 -->\n",
       "<g class=\"edge\" id=\"edge3\"><title>5576579616-&gt;279212384</title>\n",
       "<path d=\"M116.5,-657.313C116.5,-649.289 116.5,-639.547 116.5,-630.569\" fill=\"none\" stroke=\"black\"/>\n",
       "<polygon fill=\"black\" points=\"120,-630.529 116.5,-620.529 113,-630.529 120,-630.529\" stroke=\"black\"/>\n",
       "</g>\n",
       "<!-- 5578839656 -->\n",
       "<g class=\"node\" id=\"node5\"><title>5578839656</title>\n",
       "<polygon fill=\"none\" points=\"33,-511.5 33,-547.5 200,-547.5 200,-511.5 33,-511.5\" stroke=\"black\"/>\n",
       "<text font-family=\"Times New Roman,serif\" font-size=\"14.00\" text-anchor=\"middle\" x=\"116.5\" y=\"-525.8\">activation_239 (Activation)</text>\n",
       "</g>\n",
       "<!-- 279212384&#45;&gt;5578839656 -->\n",
       "<g class=\"edge\" id=\"edge4\"><title>279212384-&gt;5578839656</title>\n",
       "<path d=\"M116.5,-584.313C116.5,-576.289 116.5,-566.547 116.5,-557.569\" fill=\"none\" stroke=\"black\"/>\n",
       "<polygon fill=\"black\" points=\"120,-557.529 116.5,-547.529 113,-557.529 120,-557.529\" stroke=\"black\"/>\n",
       "</g>\n",
       "<!-- 5578840160 -->\n",
       "<g class=\"node\" id=\"node6\"><title>5578840160</title>\n",
       "<polygon fill=\"none\" points=\"6,-438.5 6,-474.5 227,-474.5 227,-438.5 6,-438.5\" stroke=\"black\"/>\n",
       "<text font-family=\"Times New Roman,serif\" font-size=\"14.00\" text-anchor=\"middle\" x=\"116.5\" y=\"-452.8\">maxpooling2d_135 (MaxPooling2D)</text>\n",
       "</g>\n",
       "<!-- 5578839656&#45;&gt;5578840160 -->\n",
       "<g class=\"edge\" id=\"edge5\"><title>5578839656-&gt;5578840160</title>\n",
       "<path d=\"M116.5,-511.313C116.5,-503.289 116.5,-493.547 116.5,-484.569\" fill=\"none\" stroke=\"black\"/>\n",
       "<polygon fill=\"black\" points=\"120,-484.529 116.5,-474.529 113,-484.529 120,-484.529\" stroke=\"black\"/>\n",
       "</g>\n",
       "<!-- 5578838312 -->\n",
       "<g class=\"node\" id=\"node7\"><title>5578838312</title>\n",
       "<polygon fill=\"none\" points=\"45,-365.5 45,-401.5 188,-401.5 188,-365.5 45,-365.5\" stroke=\"black\"/>\n",
       "<text font-family=\"Times New Roman,serif\" font-size=\"14.00\" text-anchor=\"middle\" x=\"116.5\" y=\"-379.8\">dropout_50 (Dropout)</text>\n",
       "</g>\n",
       "<!-- 5578840160&#45;&gt;5578838312 -->\n",
       "<g class=\"edge\" id=\"edge6\"><title>5578840160-&gt;5578838312</title>\n",
       "<path d=\"M116.5,-438.313C116.5,-430.289 116.5,-420.547 116.5,-411.569\" fill=\"none\" stroke=\"black\"/>\n",
       "<polygon fill=\"black\" points=\"120,-411.529 116.5,-401.529 113,-411.529 120,-411.529\" stroke=\"black\"/>\n",
       "</g>\n",
       "<!-- 5578028928 -->\n",
       "<g class=\"node\" id=\"node8\"><title>5578028928</title>\n",
       "<polygon fill=\"none\" points=\"55.5,-292.5 55.5,-328.5 177.5,-328.5 177.5,-292.5 55.5,-292.5\" stroke=\"black\"/>\n",
       "<text font-family=\"Times New Roman,serif\" font-size=\"14.00\" text-anchor=\"middle\" x=\"116.5\" y=\"-306.8\">flatten_82 (Flatten)</text>\n",
       "</g>\n",
       "<!-- 5578838312&#45;&gt;5578028928 -->\n",
       "<g class=\"edge\" id=\"edge7\"><title>5578838312-&gt;5578028928</title>\n",
       "<path d=\"M116.5,-365.313C116.5,-357.289 116.5,-347.547 116.5,-338.569\" fill=\"none\" stroke=\"black\"/>\n",
       "<polygon fill=\"black\" points=\"120,-338.529 116.5,-328.529 113,-338.529 120,-338.529\" stroke=\"black\"/>\n",
       "</g>\n",
       "<!-- 5580973840 -->\n",
       "<g class=\"node\" id=\"node9\"><title>5580973840</title>\n",
       "<polygon fill=\"none\" points=\"54.5,-219.5 54.5,-255.5 178.5,-255.5 178.5,-219.5 54.5,-219.5\" stroke=\"black\"/>\n",
       "<text font-family=\"Times New Roman,serif\" font-size=\"14.00\" text-anchor=\"middle\" x=\"116.5\" y=\"-233.8\">dense_157 (Dense)</text>\n",
       "</g>\n",
       "<!-- 5578028928&#45;&gt;5580973840 -->\n",
       "<g class=\"edge\" id=\"edge8\"><title>5578028928-&gt;5580973840</title>\n",
       "<path d=\"M116.5,-292.313C116.5,-284.289 116.5,-274.547 116.5,-265.569\" fill=\"none\" stroke=\"black\"/>\n",
       "<polygon fill=\"black\" points=\"120,-265.529 116.5,-255.529 113,-265.529 120,-265.529\" stroke=\"black\"/>\n",
       "</g>\n",
       "<!-- 5581896168 -->\n",
       "<g class=\"node\" id=\"node10\"><title>5581896168</title>\n",
       "<polygon fill=\"none\" points=\"33,-146.5 33,-182.5 200,-182.5 200,-146.5 33,-146.5\" stroke=\"black\"/>\n",
       "<text font-family=\"Times New Roman,serif\" font-size=\"14.00\" text-anchor=\"middle\" x=\"116.5\" y=\"-160.8\">activation_240 (Activation)</text>\n",
       "</g>\n",
       "<!-- 5580973840&#45;&gt;5581896168 -->\n",
       "<g class=\"edge\" id=\"edge9\"><title>5580973840-&gt;5581896168</title>\n",
       "<path d=\"M116.5,-219.313C116.5,-211.289 116.5,-201.547 116.5,-192.569\" fill=\"none\" stroke=\"black\"/>\n",
       "<polygon fill=\"black\" points=\"120,-192.529 116.5,-182.529 113,-192.529 120,-192.529\" stroke=\"black\"/>\n",
       "</g>\n",
       "<!-- 5196150376 -->\n",
       "<g class=\"node\" id=\"node11\"><title>5196150376</title>\n",
       "<polygon fill=\"none\" points=\"45,-73.5 45,-109.5 188,-109.5 188,-73.5 45,-73.5\" stroke=\"black\"/>\n",
       "<text font-family=\"Times New Roman,serif\" font-size=\"14.00\" text-anchor=\"middle\" x=\"116.5\" y=\"-87.8\">dropout_51 (Dropout)</text>\n",
       "</g>\n",
       "<!-- 5581896168&#45;&gt;5196150376 -->\n",
       "<g class=\"edge\" id=\"edge10\"><title>5581896168-&gt;5196150376</title>\n",
       "<path d=\"M116.5,-146.313C116.5,-138.289 116.5,-128.547 116.5,-119.569\" fill=\"none\" stroke=\"black\"/>\n",
       "<polygon fill=\"black\" points=\"120,-119.529 116.5,-109.529 113,-119.529 120,-119.529\" stroke=\"black\"/>\n",
       "</g>\n",
       "<!-- 5350705192 -->\n",
       "<g class=\"node\" id=\"node12\"><title>5350705192</title>\n",
       "<polygon fill=\"none\" points=\"54.5,-0.5 54.5,-36.5 178.5,-36.5 178.5,-0.5 54.5,-0.5\" stroke=\"black\"/>\n",
       "<text font-family=\"Times New Roman,serif\" font-size=\"14.00\" text-anchor=\"middle\" x=\"116.5\" y=\"-14.8\">dense_158 (Dense)</text>\n",
       "</g>\n",
       "<!-- 5196150376&#45;&gt;5350705192 -->\n",
       "<g class=\"edge\" id=\"edge11\"><title>5196150376-&gt;5350705192</title>\n",
       "<path d=\"M116.5,-73.3129C116.5,-65.2895 116.5,-55.5475 116.5,-46.5691\" fill=\"none\" stroke=\"black\"/>\n",
       "<polygon fill=\"black\" points=\"120,-46.5288 116.5,-36.5288 113,-46.5289 120,-46.5288\" stroke=\"black\"/>\n",
       "</g>\n",
       "</g>\n",
       "</svg>"
      ],
      "text/plain": [
       "<IPython.core.display.SVG object>"
      ]
     },
     "execution_count": 395,
     "metadata": {},
     "output_type": "execute_result"
    }
   ],
   "source": [
    "model = load_model('mnist_cnn_keras.h5')\n",
    "from keras.utils.visualize_util import plot\n",
    "plot(model, to_file='model_cnn.png',show_layer_names=False,show_shapes=True)\n",
    "from IPython.display import SVG\n",
    "from keras.utils.visualize_util import model_to_dot\n",
    "\n",
    "SVG(model_to_dot(model).create(prog='dot', format='svg'))"
   ]
  },
  {
   "cell_type": "markdown",
   "metadata": {
    "collapsed": false
   },
   "source": [
    "# Tensor decomposition example with random data"
   ]
  },
  {
   "cell_type": "code",
   "execution_count": 168,
   "metadata": {
    "collapsed": false,
    "scrolled": true
   },
   "outputs": [
    {
     "name": "stdout",
     "output_type": "stream",
     "text": [
      "(3L, 5L)\n",
      "(50L, 5L)\n",
      "(4L, 5L)\n",
      "(5L,)\n",
      "(3L, 50L, 4L)\n",
      "30.6222376585\n",
      "51.6666666667\n"
     ]
    },
    {
     "data": {
      "text/plain": [
       "(3L, 50L, 4L)"
      ]
     },
     "execution_count": 168,
     "metadata": {},
     "output_type": "execute_result"
    }
   ],
   "source": [
    "Image(filename='prd.png') \n",
    "from sktensor import dtensor, cp_als\n",
    "# Create dense tensor from numpy array\n",
    "T0 = np.random.rand(3, 50,4 )\n",
    "T = dtensor(T0)\n",
    "P, fit, itr, exectimes = cp_als(T,5, init='random')\n",
    "print(P.U[0].shape)\n",
    "print(P.U[1].shape)\n",
    "print(P.U[2].shape)\n",
    "print(P.lmbda.shape)\n",
    "T_est=P.totensor()\n",
    "print(T_est.shape)\n",
    "print(np.sqrt(((T-T_est)**2).sum()/(T**2).sum())*100.0)\n",
    "### Option-2\n",
    "#The quality of the reconstructed signal is measured as the \n",
    "# percent-root mean square distortion (PRD):\n",
    "T1=P.toarray()\n",
    "prd=np.sqrt(((T0-T1)**2).sum()/(T0**2).sum())*100.0\n",
    "##\n",
    "cmpr_ratio=100-100.0*(P.U[0].size+P.U[1].size+P.U[2].size+P.lmbda.size)/T0.size\n",
    "print(cmpr_ratio)\n",
    "X=np.array(T1)\n",
    "X.shape"
   ]
  },
  {
   "cell_type": "code",
   "execution_count": 169,
   "metadata": {
    "collapsed": false,
    "scrolled": true
   },
   "outputs": [
    {
     "data": {
      "image/png": "[encoded data removed]",
      "text/plain": [
       "<IPython.core.display.Image object>"
      ]
     },
     "execution_count": 169,
     "metadata": {},
     "output_type": "execute_result"
    }
   ],
   "source": [
    "Image(filename='prd.png') "
   ]
  },
  {
   "cell_type": "code",
   "execution_count": 171,
   "metadata": {
    "collapsed": false
   },
   "outputs": [],
   "source": [
    "# Create dense tensor from numpy array\n",
    "def compress_tensor(T_in, n_cp):\n",
    "    '''Input is a 3-way numpy.ndarray\n",
    "    ex: T_in = np.random.rand(3, 50,4 )\n",
    "    '''\n",
    "    T = dtensor(T_in)\n",
    "    P, fit, itr, exectimes = cp_als(T,n_cp, init='random')\n",
    "    #The quality of the reconstructed signal is measured as the \n",
    "    # percent-root mean square distortion (PRD):\n",
    "    T1=P.toarray()\n",
    "    prd=np.sqrt(((T_in-T1)**2).sum()/(T_in**2).sum())*100.0\n",
    "    cmpr_ratio=100-100.0*(P.U[0].size+P.U[1].size+P.U[2].size+P.lmbda.size)/T_in.size\n",
    "    T_out=np.array(T1)\n",
    "    return T_out,prd,cmpr_ratio"
   ]
  },
  {
   "cell_type": "markdown",
   "metadata": {},
   "source": [
    " ## Visualization of how the deconsructed version looks like:       "
   ]
  },
  {
   "cell_type": "code",
   "execution_count": 172,
   "metadata": {
    "collapsed": false
   },
   "outputs": [
    {
     "data": {
      "text/plain": [
       "(50L, 4L, 3L)"
      ]
     },
     "execution_count": 172,
     "metadata": {},
     "output_type": "execute_result"
    }
   ],
   "source": [
    "X_4Dcuboid=df_12.as_matrix().reshape(12600,50,4,3)\n",
    "t=0\n",
    "tensor_t=X_4Dcuboid[t,:,:,:] # Size: (50L, 4L, 3L)\n",
    "tensor_t.shape"
   ]
  },
  {
   "cell_type": "code",
   "execution_count": 173,
   "metadata": {
    "collapsed": false
   },
   "outputs": [
    {
     "data": {
      "text/plain": [
       "array([[  0.17706 , -10.569   ,   1.8251  ],\n",
       "       [ -7.5051  ,  -4.7736  ,  -0.062476],\n",
       "       [ -0.36652 ,   1.2706  ,  -0.52412 ],\n",
       "       [-30.3     ,  31.08    ,   3.96    ]])"
      ]
     },
     "execution_count": 173,
     "metadata": {},
     "output_type": "execute_result"
    }
   ],
   "source": [
    "tensor_t[0,:,:]"
   ]
  },
  {
   "cell_type": "code",
   "execution_count": 174,
   "metadata": {
    "collapsed": false
   },
   "outputs": [
    {
     "name": "stdout",
     "output_type": "stream",
     "text": [
      "5.51015129067\n"
     ]
    },
    {
     "data": {
      "text/plain": [
       "51.666666666666664"
      ]
     },
     "execution_count": 174,
     "metadata": {},
     "output_type": "execute_result"
    }
   ],
   "source": [
    "T_out,prd,cmpr_ratio=compress_tensor(tensor_t,5)\n",
    "print(prd)\n",
    "cmpr_ratio"
   ]
  },
  {
   "cell_type": "code",
   "execution_count": 175,
   "metadata": {
    "collapsed": true
   },
   "outputs": [],
   "source": [
    "df_compr=pd.DataFrame(T_out[:,0,:],columns=['ax-c','ay-c','az-c'])\n",
    "df_compare = pd.concat([df_compr, df_12.ix[0:50,['ax','ay','az']]], axis=1)"
   ]
  },
  {
   "cell_type": "code",
   "execution_count": 176,
   "metadata": {
    "collapsed": false
   },
   "outputs": [
    {
     "data": {
      "text/plain": [
       "<matplotlib.figure.Figure at 0xf1f9e7b8>"
      ]
     },
     "metadata": {},
     "output_type": "display_data"
    },
    {
     "data": {
      "image/png": "[encoded data removed]",
      "text/plain": [
       "<matplotlib.figure.Figure at 0x11ce2198>"
      ]
     },
     "metadata": {},
     "output_type": "display_data"
    }
   ],
   "source": [
    "df_compr=pd.DataFrame(T_out[:,0,:],columns=['ax-c','ay-c','az-c'])\n",
    "df_compare = pd.concat([df_compr, df_12.ix[0:50,['ax','ay','az']]], axis=1)\n",
    "fig=plt.figure(figsize=(5, 10), dpi=80, facecolor='k', edgecolor='k')\n",
    "ax=df_compare.plot()\n",
    "ax.set_xlabel('Time indices')\n",
    "ax.set_ylabel('Accelerometer readings')\n",
    "ax.set_title('')\n",
    "ax.grid(False)\n",
    "ax.set_title(\"Compression Ratio: %.2f | Percent-root mean square distortion(PRD): %.2f  \" % (cmpr_ratio,prd))\n",
    "ax.spines['left'].set_color('red')\n",
    "ax.set_axis_bgcolor('white')\n",
    "ax.set_axis_on()\n",
    "plt.savefig('acc_compare.pdf', format='pdf',dpi=100)\n"
   ]
  },
  {
   "cell_type": "markdown",
   "metadata": {},
   "source": [
    "# Compress all the data:"
   ]
  },
  {
   "cell_type": "markdown",
   "metadata": {
    "collapsed": false
   },
   "source": [
    "### Compression code:\n",
    "\n",
    "```python\n",
    "\n",
    "X_4Dcuboid=df_12.as_matrix().reshape(12600,50,4,3)\n",
    "t=0\n",
    "tensor_t=X_4Dcuboid[t,:,:,:] # Size: (50L, 4L, 3L)\n",
    "tensor_t.shape\n",
    "print(X_4Dcuboid.shape)\n",
    "\n",
    "n_cp=5\n",
    "cr_vec=np.zeros((12600,1),dtype='float')\n",
    "prd_vec=np.zeros((12600,1),dtype='float')\n",
    "first_time=1\n",
    "for t_ind in range(12600):\n",
    "    if first_time:\n",
    "        first_time=0\n",
    "        tensor_t=X_4Dcuboid[t_ind,:,:,:]\n",
    "        T_out,prd,cmpr_ratio=compress_tensor(tensor_t,n_cp)\n",
    "        df_12_compress=pd.DataFrame(data=T_out.reshape((50,12)),columns=[u'ax', u'ay', u'az', u'lx', u'ly', u'lz', u'gx', u'gy',  u'gz', u'mx', u'my', u'mz']) \n",
    "        prd_vec[t_ind]=prd\n",
    "        cr_vec[t_ind]=cmpr_ratio\n",
    "        continue\n",
    "    tensor_t=X_4Dcuboid[t_ind,:,:,:]\n",
    "    T_out,prd,cmpr_ratio=compress_tensor(tensor_t,5)\n",
    "    df_12_compress_t=pd.DataFrame(data=T_out.reshape((50,12)),columns=[u'ax', u'ay', u'az', u'lx', u'ly', u'lz', u'gx', u'gy',  u'gz', u'mx', u'my', u'mz'])\n",
    "    df_12_compress=df_12_compress.append(df_12_compress_t,ignore_index=True)\n",
    "    prd_vec[t_ind]=prd\n",
    "    cr_vec[t_ind]=cmpr_ratio\n",
    "df_12_compress.to_csv('df_12_compress.csv',index=False)\n",
    "```"
   ]
  },
  {
   "cell_type": "code",
   "execution_count": 200,
   "metadata": {
    "collapsed": false
   },
   "outputs": [
    {
     "name": "stdout",
     "output_type": "stream",
     "text": [
      "(12600L, 50L, 4L, 3L)\n"
     ]
    }
   ],
   "source": [
    "X_4Dcuboid=df_12.as_matrix().reshape(12600,50,4,3)\n",
    "t=0\n",
    "tensor_t=X_4Dcuboid[t,:,:,:] # Size: (50L, 4L, 3L)\n",
    "tensor_t.shape\n",
    "print(X_4Dcuboid.shape)\n",
    "\n",
    "n_cp=5\n",
    "cr_vec=np.zeros((12600,1),dtype='float')\n",
    "prd_vec=np.zeros((12600,1),dtype='float')\n",
    "first_time=1\n",
    "for t_ind in range(12600):\n",
    "    if first_time:\n",
    "        first_time=0\n",
    "        tensor_t=X_4Dcuboid[t_ind,:,:,:]\n",
    "        T_out,prd,cmpr_ratio=compress_tensor(tensor_t,n_cp)\n",
    "        df_12_compress=pd.DataFrame(data=T_out.reshape((50,12)),columns=[u'ax', u'ay', u'az', u'lx', u'ly', u'lz', u'gx', u'gy',  u'gz', u'mx', u'my', u'mz']) \n",
    "        prd_vec[t_ind]=prd\n",
    "        cr_vec[t_ind]=cmpr_ratio\n",
    "        continue\n",
    "    tensor_t=X_4Dcuboid[t_ind,:,:,:]\n",
    "    T_out,prd,cmpr_ratio=compress_tensor(tensor_t,5)\n",
    "    df_12_compress_t=pd.DataFrame(data=T_out.reshape((50,12)),columns=[u'ax', u'ay', u'az', u'lx', u'ly', u'lz', u'gx', u'gy',  u'gz', u'mx', u'my', u'mz'])\n",
    "    df_12_compress=df_12_compress.append(df_12_compress_t,ignore_index=True)\n",
    "    prd_vec[t_ind]=prd\n",
    "    cr_vec[t_ind]=cmpr_ratio\n",
    "df_12_compress.to_csv('df_12_compress.csv',index=False)"
   ]
  },
  {
   "cell_type": "code",
   "execution_count": 270,
   "metadata": {
    "collapsed": false
   },
   "outputs": [
    {
     "name": "stdout",
     "output_type": "stream",
     "text": [
      "mu=4.00381868904, sigma=3.08142048617\n"
     ]
    },
    {
     "data": {
      "image/png": "[encoded data removed]",
      "text/plain": [
       "<matplotlib.figure.Figure at 0x1393ddc18>"
      ]
     },
     "metadata": {},
     "output_type": "display_data"
    }
   ],
   "source": [
    "from scipy import stats\n",
    "\n",
    "ax = sns.distplot(prd_vec, bins=20, kde=False, fit=stats.norm);\n",
    "# Get the fitted parameters used by sns\n",
    "(mu, sigma) = stats.norm.fit(prd_vec)\n",
    "print(\"mu={0}, sigma={1}\".format(mu, sigma))\n",
    "\n",
    "# Legend and labels \n",
    "plt.legend([\"normal dist. fit ($\\mu=${0:.2g}, $\\sigma=${1:.2f})\".format(mu, sigma)])\n",
    "plt.ylabel('Frequency')\n",
    "\n",
    "# Cross-check this is indeed the case - should be overlaid over black curve\n",
    "x_dummy = np.linspace(stats.norm.ppf(0.01), stats.norm.ppf(0.99), 100)\n",
    "ax.plot(x_dummy, stats.norm.pdf(x_dummy, mu, sigma))\n",
    "plt.legend([\"Normal dist. fit ($\\mu=${0:.3f}, $\\sigma=${1:.2f})\".format(mu, sigma),\n",
    "           \"cross-check\"])\n",
    "ax.set_xlabel('Percent-root mean square distortion(PRD)')\n",
    "ax.grid(False)\n",
    "ax.set_title(\"Compression Ratio: %.2f | $n_{cp}=5$  \" % (cmpr_ratio))\n",
    "ax.spines['left'].set_color('red')\n",
    "ax.set_axis_bgcolor('0.95')\n",
    "ax.set_axis_on()\n",
    "ax.set_xlim([0,20])\n",
    "plt.savefig('prd_dist.pdf', format='pdf',dpi=100)"
   ]
  },
  {
   "cell_type": "markdown",
   "metadata": {},
   "source": [
    "# Using the compressed data"
   ]
  },
  {
   "cell_type": "code",
   "execution_count": 201,
   "metadata": {
    "collapsed": false
   },
   "outputs": [
    {
     "name": "stdout",
     "output_type": "stream",
     "text": [
      "(12600L, 1L, 50L, 12L)\n",
      "(12600L, 1L, 50L, 1L)\n",
      "(10080L, 1L, 50L, 12L)\n",
      "(2520L, 1L, 50L, 12L)\n",
      "[1440 1440 1440 1440 1440 1440 1440]\n",
      "[360 360 360 360 360 360 360]\n"
     ]
    },
    {
     "name": "stderr",
     "output_type": "stream",
     "text": [
      "C:\\toolkits\\anaconda2-4.1.0\\lib\\site-packages\\ipykernel\\__main__.py:11: VisibleDeprecationWarning: using a non-integer number instead of an integer will result in an error in the future\n",
      "C:\\toolkits\\anaconda2-4.1.0\\lib\\site-packages\\ipykernel\\__main__.py:12: VisibleDeprecationWarning: using a non-integer number instead of an integer will result in an error in the future\n",
      "C:\\toolkits\\anaconda2-4.1.0\\lib\\site-packages\\ipykernel\\__main__.py:16: VisibleDeprecationWarning: using a non-integer number instead of an integer will result in an error in the future\n",
      "C:\\toolkits\\anaconda2-4.1.0\\lib\\site-packages\\ipykernel\\__main__.py:19: VisibleDeprecationWarning: using a non-integer number instead of an integer will result in an error in the future\n"
     ]
    }
   ],
   "source": [
    "df_12_compress=pd.read_csv('df_12_compress.csv')\n",
    "# df_36_compress=df_12_compress.ix[:,index_vec]\n",
    "X_train_test_compress=df_12_compress.as_matrix().reshape(12600, 1, 50,12)\n",
    "print(X_train_test_compress.shape)\n",
    "\n",
    "y_train_test_compress=df_data.ix[:,'act_codes'].as_matrix().reshape(12600, 1, 50,1)\n",
    "print(y_train_test_compress.shape)\n",
    "\n",
    "\n",
    "N_train=12600.0*0.8 # 80% train and rest test\n",
    "X_train_compress=X_train_test_compress[0:N_train,:,:,:]\n",
    "X_test_compress=X_train_test_compress[N_train:,:,:,:]\n",
    "print(X_train_compress.shape)\n",
    "print(X_test_compress.shape)\n",
    "\n",
    "y_train_compress=y_train_test_compress[0:N_train,0,0,0]\n",
    "print(np.bincount(y_train_compress))\n",
    "\n",
    "y_test_compress=y_train_test_compress[N_train:,0,0,0]\n",
    "print(np.bincount(y_test_compress))\n",
    "\n",
    "nb_classes=7\n",
    "# convert class vectors to binary class matrices\n",
    "Y_train_compress= np_utils.to_categorical(y_train_compress, nb_classes)\n",
    "Y_test_compress= np_utils.to_categorical(y_test_compress, nb_classes)\n",
    "\n",
    "\n",
    "X_train_compress/=X_train_compress.max()\n",
    "X_test_compress/=X_test_compress.max()"
   ]
  },
  {
   "cell_type": "markdown",
   "metadata": {},
   "source": [
    "# Train on UNcompressed, test on compressed"
   ]
  },
  {
   "cell_type": "code",
   "execution_count": 203,
   "metadata": {
    "collapsed": false
   },
   "outputs": [
    {
     "name": "stdout",
     "output_type": "stream",
     "text": [
      "Test score: 0.214300400471\n",
      "Test accuracy: 0.930555555556\n"
     ]
    }
   ],
   "source": [
    "from keras.models import load_model\n",
    "model = load_model('mnist_cnn_keras.h5')\n",
    "score = model.evaluate(X_test_compress, Y_test_compress, verbose=0)\n",
    "print('Test score:', score[0])\n",
    "print('Test accuracy:', score[1])"
   ]
  },
  {
   "cell_type": "markdown",
   "metadata": {},
   "source": [
    "# Train on compressed, test on compressed"
   ]
  },
  {
   "cell_type": "markdown",
   "metadata": {
    "collapsed": false
   },
   "source": [
    "```python\n",
    "    model = mnist_cnn_keras()\n",
    "    model.compile(loss='categorical_crossentropy',\n",
    "                  optimizer='adam',\n",
    "                  metrics=['accuracy'])\n",
    "\n",
    "    model.fit(X_train_compress, Y_train_compress, batch_size=128,validation_split=0.125, nb_epoch=20,verbose=0)\n",
    "    score = model.evaluate(X_test_compress, Y_test_compress, verbose=0)\n",
    "    print('Test accuracy:', score[1])\n",
    "```"
   ]
  },
  {
   "cell_type": "code",
   "execution_count": 204,
   "metadata": {
    "collapsed": false,
    "scrolled": true
   },
   "outputs": [
    {
     "name": "stdout",
     "output_type": "stream",
     "text": [
      "Test score: 0.24511984325\n",
      "Test accuracy: 0.937301587302\n"
     ]
    }
   ],
   "source": [
    "model = load_model('cnn_compressed_5.h5')\n",
    "score = model.evaluate(X_test_compress, Y_test_compress, verbose=0)\n",
    "print('Test score:', score[0])\n",
    "print('Test accuracy:', score[1])"
   ]
  },
  {
   "cell_type": "markdown",
   "metadata": {},
   "source": [
    "# Train on compressed, test on UNcompressed"
   ]
  },
  {
   "cell_type": "code",
   "execution_count": 205,
   "metadata": {
    "collapsed": false
   },
   "outputs": [
    {
     "name": "stdout",
     "output_type": "stream",
     "text": [
      "Test score: 0.248652574077\n",
      "Test accuracy: 0.938095238095\n"
     ]
    }
   ],
   "source": [
    "score = model.evaluate(X_test, Y_test, verbose=0)\n",
    "print('Test score:', score[0])\n",
    "print('Test accuracy:', score[1])"
   ]
  },
  {
   "cell_type": "markdown",
   "metadata": {},
   "source": [
    "# Now, compress with $n_{cp}$=4"
   ]
  },
  {
   "cell_type": "code",
   "execution_count": 300,
   "metadata": {
    "collapsed": false
   },
   "outputs": [],
   "source": [
    "def tic():\n",
    "    #Homemade version of matlab tic and toc functions\n",
    "    import time\n",
    "    global startTime_for_tictoc\n",
    "    startTime_for_tictoc = time.time()\n",
    "\n",
    "def toc():\n",
    "    import time\n",
    "    if 'startTime_for_tictoc' in globals():\n",
    "        print( \"Elapsed time is \" + str(time.time() - startTime_for_tictoc) + \" seconds.\")\n",
    "    else:\n",
    "        print(\"Toc: start time not set\")"
   ]
  },
  {
   "cell_type": "code",
   "execution_count": 304,
   "metadata": {
    "collapsed": false
   },
   "outputs": [
    {
     "name": "stdout",
     "output_type": "stream",
     "text": [
      "(12600L, 50L, 4L, 3L)\n",
      "61.3333333333\n",
      "Elapsed time is 1093.04100013 seconds.\n"
     ]
    }
   ],
   "source": [
    "X_4Dcuboid=df_12.as_matrix().reshape(12600,50,4,3)\n",
    "t=0\n",
    "tensor_t=X_4Dcuboid[t,:,:,:] # Size: (50L, 4L, 3L)\n",
    "tensor_t.shape\n",
    "print(X_4Dcuboid.shape)\n",
    "n_cp=4\n",
    "cr_vec_4=np.zeros((12600,1),dtype='float')\n",
    "prd_vec_4=np.zeros((12600,1),dtype='float')\n",
    "first_time=1\n",
    "tic()\n",
    "for t_ind in range(12600):\n",
    "    if first_time:\n",
    "        first_time=0\n",
    "        tensor_t=X_4Dcuboid[t_ind,:,:,:]\n",
    "        T_out,prd,cmpr_ratio=compress_tensor(tensor_t,n_cp)\n",
    "        df_12_compress_4=pd.DataFrame(data=T_out.reshape((50,12)),columns=[u'ax', u'ay', u'az', u'lx', u'ly', u'lz', u'gx', u'gy',  u'gz', u'mx', u'my', u'mz']) \n",
    "        prd_vec_4[t_ind]=prd\n",
    "        cr_vec_4[t_ind]=cmpr_ratio\n",
    "        print(cmpr_ratio)\n",
    "        continue\n",
    "    tensor_t=X_4Dcuboid[t_ind,:,:,:]\n",
    "    T_out,prd,cmpr_ratio=compress_tensor(tensor_t,n_cp)\n",
    "    df_12_compress_4_t=pd.DataFrame(data=T_out.reshape((50,12)),columns=[u'ax', u'ay', u'az', u'lx', u'ly', u'lz', u'gx', u'gy',  u'gz', u'mx', u'my', u'mz'])\n",
    "    df_12_compress_4=df_12_compress_4.append(df_12_compress_4_t,ignore_index=True)\n",
    "    prd_vec_4[t_ind]=prd\n",
    "    cr_vec_4[t_ind]=cmpr_ratio\n",
    "toc()\n",
    "df_12_compress_4.to_csv('df_12_compress_4.csv',index=False)"
   ]
  },
  {
   "cell_type": "code",
   "execution_count": null,
   "metadata": {
    "collapsed": false
   },
   "outputs": [],
   "source": []
  },
  {
   "cell_type": "code",
   "execution_count": 305,
   "metadata": {
    "collapsed": false
   },
   "outputs": [
    {
     "name": "stderr",
     "output_type": "stream",
     "text": [
      "C:\\toolkits\\anaconda2-4.1.0\\lib\\site-packages\\ipykernel\\__main__.py:5: VisibleDeprecationWarning: using a non-integer number instead of an integer will result in an error in the future\n",
      "C:\\toolkits\\anaconda2-4.1.0\\lib\\site-packages\\ipykernel\\__main__.py:6: VisibleDeprecationWarning: using a non-integer number instead of an integer will result in an error in the future\n",
      "C:\\toolkits\\anaconda2-4.1.0\\lib\\site-packages\\ipykernel\\__main__.py:8: VisibleDeprecationWarning: using a non-integer number instead of an integer will result in an error in the future\n",
      "C:\\toolkits\\anaconda2-4.1.0\\lib\\site-packages\\ipykernel\\__main__.py:10: VisibleDeprecationWarning: using a non-integer number instead of an integer will result in an error in the future\n"
     ]
    }
   ],
   "source": [
    "# df_12_compress_4=pd.read_csv('df_12_compress_4.csv')\n",
    "X_train_test_compress_4=df_12_compress_4.as_matrix().reshape(12600, 1, 50,12)\n",
    "y_train_test_compress_4=df_data.ix[:,'act_codes'].as_matrix().reshape(12600, 1, 50,1)\n",
    "N_train=12600.0*0.8 # 80% train and rest test\n",
    "X_train_compress_4=X_train_test_compress_4[0:N_train,:,:,:]\n",
    "X_test_compress_4=X_train_test_compress_4[N_train:,:,:,:]\n",
    "\n",
    "y_train_compress_4=y_train_test_compress_4[0:N_train,0,0,0]\n",
    "\n",
    "y_test_compress_4=y_train_test_compress_4[N_train:,0,0,0]\n",
    "\n",
    "nb_classes=7\n",
    "# convert class vectors to binary class matrices\n",
    "Y_train_compress_4= np_utils.to_categorical(y_train_compress_4, nb_classes)\n",
    "Y_test_compress_4= np_utils.to_categorical(y_test_compress_4, nb_classes)\n",
    "\n",
    "\n",
    "X_train_compress_4/=X_train_compress_4.max()\n",
    "X_test_compress_4/=X_test_compress_4.max()"
   ]
  },
  {
   "cell_type": "code",
   "execution_count": 306,
   "metadata": {
    "collapsed": false
   },
   "outputs": [
    {
     "name": "stdout",
     "output_type": "stream",
     "text": [
      "Test score: 0.23593307129\n",
      "Test accuracy: 0.923809523999\n"
     ]
    }
   ],
   "source": [
    "# Train: UNcompressed Test: Compressed\n",
    "from keras.models import load_model\n",
    "model = load_model('mnist_cnn_keras.h5')\n",
    "score = model.evaluate(X_test_compress_4, Y_test_compress_4, verbose=0)\n",
    "print('Test score:', score[0])\n",
    "print('Test accuracy:', score[1])"
   ]
  },
  {
   "cell_type": "markdown",
   "metadata": {},
   "source": [
    "# Train: Compressed Test: Compressed\n",
    "```python\n",
    "model = mnist_cnn_keras()\n",
    "model.compile(loss='categorical_crossentropy',\n",
    "          optimizer='adam',\n",
    "          metrics=['accuracy'])\n",
    "\n",
    "model.fit(X_train_compress_4, Y_train_compress_4, batch_size=128,validation_split=0.125, nb_epoch=20,verbose=0)\n",
    "score = model.evaluate(X_test_compress_4, Y_test_compress_4, verbose=0)\n",
    "print('Test accuracy:', score[1])\n",
    "model.save('cnn_compressed_4.h5')\n",
    "```"
   ]
  },
  {
   "cell_type": "markdown",
   "metadata": {
    "collapsed": false
   },
   "source": [
    "# Training code:\n",
    "```python\n",
    "    model = mnist_cnn_keras()\n",
    "    model.compile(loss='categorical_crossentropy',\n",
    "              optimizer='adam',\n",
    "              metrics=['accuracy'])\n",
    "\n",
    "    model.fit(X_train_compress_4, Y_train_compress_4, batch_size=128,validation_split=0.125, nb_epoch=20,verbose=0)\n",
    "    score = model.evaluate(X_test_compress_4, Y_test_compress_4, verbose=0)\n",
    "    print('Test accuracy:', score[1])\n",
    "```"
   ]
  },
  {
   "cell_type": "code",
   "execution_count": 309,
   "metadata": {
    "collapsed": false
   },
   "outputs": [
    {
     "name": "stdout",
     "output_type": "stream",
     "text": [
      "Test score: 0.565936353444\n",
      "Test accuracy: 0.93253968254\n"
     ]
    }
   ],
   "source": [
    "model = load_model('cnn_compressed_4.h5')\n",
    "score = model.evaluate(X_test_compress_4, Y_test_compress_4, verbose=0)\n",
    "print('Test score:', score[0])\n",
    "print('Test accuracy:', score[1])"
   ]
  },
  {
   "cell_type": "code",
   "execution_count": 310,
   "metadata": {
    "collapsed": false
   },
   "outputs": [
    {
     "name": "stdout",
     "output_type": "stream",
     "text": [
      "Test score: 0.532557370008\n",
      "Test accuracy: 0.933730158541\n"
     ]
    }
   ],
   "source": [
    "model = load_model('cnn_compressed_4.h5')\n",
    "score = model.evaluate(X_test, Y_test, verbose=0)\n",
    "print('Test score:', score[0])\n",
    "print('Test accuracy:', score[1])"
   ]
  },
  {
   "cell_type": "code",
   "execution_count": 319,
   "metadata": {
    "collapsed": false
   },
   "outputs": [
    {
     "name": "stdout",
     "output_type": "stream",
     "text": [
      "mu=4.00381868904, sigma=3.08142048617\n",
      "mu=5.78955319698, sigma=4.37670437008\n"
     ]
    },
    {
     "data": {
      "image/png": "[encoded data removed]",
      "text/plain": [
       "<matplotlib.figure.Figure at 0x144b50278>"
      ]
     },
     "metadata": {},
     "output_type": "display_data"
    }
   ],
   "source": [
    "fig=plt.figure(figsize=(10,5))\n",
    "plt.subplot(1,2,1)\n",
    "ax = sns.distplot(prd_vec, bins=20, kde=False, fit=stats.norm);\n",
    "# Get the fitted parameters used by sns\n",
    "(mu, sigma) = stats.norm.fit(prd_vec)\n",
    "print(\"mu={0}, sigma={1}\".format(mu, sigma))\n",
    "\n",
    "# Legend and labels \n",
    "plt.legend([\"normal dist. fit ($\\mu=${0:.2g}, $\\sigma=${1:.2f})\".format(mu, sigma)])\n",
    "plt.ylabel('Frequency')\n",
    "\n",
    "# Cross-check this is indeed the case - should be overlaid over black curve\n",
    "x_dummy = np.linspace(stats.norm.ppf(0.01), stats.norm.ppf(0.99), 100)\n",
    "ax.plot(x_dummy, stats.norm.pdf(x_dummy, mu, sigma))\n",
    "plt.legend([\"Normal dist. fit ($\\mu=${0:.3f}, $\\sigma=${1:.2f})\".format(mu, sigma),\n",
    "           \"cross-check\"])\n",
    "ax.set_xlabel('Percent-root mean square distortion(PRD)')\n",
    "ax.grid(False)\n",
    "ax.set_title(\"Compression Ratio: 51.67 | $n_{cp}=5$  \")\n",
    "ax.spines['left'].set_color('red')\n",
    "ax.set_axis_bgcolor('0.95')\n",
    "ax.set_axis_on()\n",
    "ax.set_xlim([0,20])\n",
    "plt.savefig('prd_dist.pdf', format='pdf',dpi=100)\n",
    "\n",
    "plt.subplot(1,2,2)\n",
    "ax = sns.distplot(prd_vec_4, bins=20, kde=False, fit=stats.norm);\n",
    "# Get the fitted parameters used by sns\n",
    "(mu, sigma) = stats.norm.fit(prd_vec_4)\n",
    "print(\"mu={0}, sigma={1}\".format(mu, sigma))\n",
    "\n",
    "# Legend and labels \n",
    "plt.legend([\"normal dist. fit ($\\mu=${0:.2g}, $\\sigma=${1:.2f})\".format(mu, sigma)])\n",
    "plt.ylabel('Frequency')\n",
    "\n",
    "# Cross-check this is indeed the case - should be overlaid over black curve\n",
    "x_dummy = np.linspace(stats.norm.ppf(0.01), stats.norm.ppf(0.99), 100)\n",
    "ax.plot(x_dummy, stats.norm.pdf(x_dummy, mu, sigma))\n",
    "plt.legend([\"Normal dist. fit ($\\mu=${0:.3f}, $\\sigma=${1:.2f})\".format(mu, sigma),\n",
    "           \"cross-check\"])\n",
    "ax.set_xlabel('Percent-root mean square distortion(PRD)')\n",
    "ax.grid(False)\n",
    "ax.set_title(\"Compression Ratio: %.2f | $n_{cp}=4$  \" % (cmpr_ratio))\n",
    "ax.spines['left'].set_color('red')\n",
    "ax.set_axis_bgcolor('0.95')\n",
    "ax.set_axis_on()\n",
    "ax.set_xlim([0,20])\n",
    "plt.savefig('prd_dist.pdf', format='pdf',dpi=100)"
   ]
  },
  {
   "cell_type": "code",
   "execution_count": 324,
   "metadata": {
    "collapsed": false
   },
   "outputs": [
    {
     "name": "stdout",
     "output_type": "stream",
     "text": [
      "2336/2520 [==========================>...] - ETA: 0s0.93253968254\n"
     ]
    },
    {
     "data": {
      "image/png": "[encoded data removed]",
      "text/plain": [
       "<matplotlib.figure.Figure at 0x16626860>"
      ]
     },
     "metadata": {},
     "output_type": "display_data"
    }
   ],
   "source": [
    "y_pred_compress_4=model.predict_classes(X_test_compress_4)\n",
    "print((y_pred_compress_4==y_test_compress_4).sum()/float(len(y_test_compress_4)))\n",
    "df_results_compress_4=pd.DataFrame(data=np.column_stack((y_test_compress_4,y_pred_compress_4)),columns=['True','Predicted'])\n",
    "CT_results_compress_4=pd.crosstab(df_results_compress_4.True,df_results_compress_4.Predicted)\n",
    "CM_results_compress_4=CT_results_compress_4/360.0\n",
    "ax=sns.heatmap(CM_results_compress_4, annot=True, fmt=\".2f\", linewidths=.5)\n",
    "ax.set_title('Confusion matrix for compressed data - $n_{cp}=4$')\n",
    "plt.savefig('cmat_ncp4.pdf', format='pdf',dpi=100)"
   ]
  },
  {
   "cell_type": "code",
   "execution_count": 378,
   "metadata": {
    "collapsed": false
   },
   "outputs": [
    {
     "data": {
      "image/png": "[encoded data removed]",
      "text/plain": [
       "<matplotlib.figure.Figure at 0x16e71e10>"
      ]
     },
     "metadata": {},
     "output_type": "display_data"
    }
   ],
   "source": [
    "fig=plt.figure(figsize=(8,4), dpi=80)\n",
    "\n",
    "df_compr5=df_12_compress.ix[0:50,['ax','ay','az']]*df_12.max().max()\n",
    "df_compr5.columns=['$ax_{c5}$','$ay_{c5}$','$az_{c5}$']\n",
    "\n",
    "df_compr4=df_12_compress_4.ix[0:50,['ax','ay','az']]*df_12.max().max()\n",
    "df_compr4.columns=['$ax_{c4}$','$ay_{c4}$','$az_{c4}$']\n",
    "\n",
    "df_compare = pd.concat([df_compr4,df_compr5,df_12.ix[0:50,['ax','ay','az']]], axis=1)\n",
    "ax=df_compare.plot(ax=fig.gca())\n",
    "plt.legend(loc='center left', bbox_to_anchor=(1.0, 0.5))\n",
    "plt.xlabel('Time indices')\n",
    "plt.ylabel('Accelerometer readings')\n",
    "ax.grid(True)\n",
    "#ax.set_title(\"Compression Ratio: %.2f | Percent-root mean square distortion(PRD): %.2f  \" % (cmpr_ratio,prd))\n",
    "ax.spines['left'].set_color('red')\n",
    "ax.set_axis_bgcolor('0.95')\n",
    "ax.set_axis_on()\n",
    "\n",
    "plt.savefig('acc_compare.pdf', format='pdf',dpi=100)"
   ]
  }
 ],
 "metadata": {
  "anaconda-cloud": {},
  "kernelspec": {
   "display_name": "Python [Root]",
   "language": "python",
   "name": "Python [Root]"
  },
  "language_info": {
   "codemirror_mode": {
    "name": "ipython",
    "version": 2
   },
   "file_extension": ".py",
   "mimetype": "text/x-python",
   "name": "python",
   "nbconvert_exporter": "python",
   "pygments_lexer": "ipython2",
   "version": "2.7.11"
  }
 },
 "nbformat": 4,
 "nbformat_minor": 0
}
